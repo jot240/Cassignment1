{
  "nbformat": 4,
  "nbformat_minor": 0,
  "metadata": {
    "colab": {
      "name": "DistrictHeating.ipynb",
      "provenance": [],
      "collapsed_sections": [],
      "include_colab_link": true
    },
    "kernelspec": {
      "name": "python3",
      "display_name": "Python 3"
    }
  },
  "cells": [
    {
      "cell_type": "markdown",
      "metadata": {
        "id": "view-in-github",
        "colab_type": "text"
      },
      "source": [
        "<a href=\"https://colab.research.google.com/github/jot240/Cassignment1/blob/master/DistrictHeating.ipynb\" target=\"_parent\"><img src=\"https://colab.research.google.com/assets/colab-badge.svg\" alt=\"Open In Colab\"/></a>"
      ]
    },
    {
      "cell_type": "code",
      "metadata": {
        "id": "pPuddfGlU95s",
        "colab": {
          "base_uri": "https://localhost:8080/"
        },
        "outputId": "9e61c81d-6825-4fb8-c606-1069b5efe561"
      },
      "source": [
        "!pip install pulp"
      ],
      "execution_count": 7,
      "outputs": [
        {
          "output_type": "stream",
          "text": [
            "Requirement already satisfied: pulp in /usr/local/lib/python3.7/dist-packages (2.4)\n",
            "Requirement already satisfied: amply>=0.1.2 in /usr/local/lib/python3.7/dist-packages (from pulp) (0.1.4)\n",
            "Requirement already satisfied: pyparsing in /usr/local/lib/python3.7/dist-packages (from amply>=0.1.2->pulp) (2.4.7)\n",
            "Requirement already satisfied: docutils>=0.3 in /usr/local/lib/python3.7/dist-packages (from amply>=0.1.2->pulp) (0.16)\n"
          ],
          "name": "stdout"
        }
      ]
    },
    {
      "cell_type": "code",
      "metadata": {
        "id": "azWmfKP28-pR"
      },
      "source": [
        "from pulp import *\r\n",
        "import pandas as pd\r\n",
        "import numpy as np\r\n",
        "from math import *"
      ],
      "execution_count": 28,
      "outputs": []
    },
    {
      "cell_type": "code",
      "metadata": {
        "id": "s2mZ74hFDDjW"
      },
      "source": [
        "   def read_excel_data(filename, sheet_name):\r\n",
        "      data = pd.read_excel(filename, sheet_name=sheet_name, header=None)\r\n",
        "      values = data.values\r\n",
        "      return values"
      ],
      "execution_count": 10,
      "outputs": []
    },
    {
      "cell_type": "code",
      "metadata": {
        "id": "41POby3_EKDH"
      },
      "source": [
        "file1 = \"InputDataEnergySmallInstance.xlsx\"\r\n",
        "v0 = read_excel_data(file1,\"SourceNum\")#location of first node\r\n",
        "vi = read_excel_data(file1,\"Nodes\") #number of nodes\r\n",
        "v_cord = read_excel_data(file1,\"NodesCord\") # nodes coordinates\r\n",
        "theta_ij_fix = read_excel_data(file1,\"vfix(thetaijfix)\")#Vfix cost\r\n",
        "theta_ij_var = read_excel_data(file1,\"vvar(thetaijvar)\")#Vvar cost\r\n",
        "fixed_unit_cost = read_excel_data(file1,\"FixedUnitCost\")#cost for 1 unit\r\n",
        "c_heat = read_excel_data(file1,\"cheat(ciheat)\")# heat cost for verticie i\r\n",
        "c_ij_var = read_excel_data(file1,\"cvar(cijvar)\")#variable cost for edge ij\r\n",
        "c_ij_om = read_excel_data(file1,\"com(cijom)\")# operations+maintenence cost for edge ij\r\n",
        "c_ij_rev = read_excel_data(file1,\"crev(cijrev)\") #revenue for edge ij\r\n",
        "t_full_load_hours = read_excel_data(file1,\"Tflh(Tiflh)\") #operation time of source verticis\r\n",
        "beta = read_excel_data(file1,\"Betta\")#concurrence effect parameter\r\n",
        "connection_quota = read_excel_data(file1,\"Lambda\") #connection quota parameter (lamda in paper)\r\n",
        "alpha = read_excel_data(file1,\"Alpha\")# annuity factor for investment costs\r\n",
        "d_ij_peak = read_excel_data(file1,\"EdgesDemandPeak(dij)\")#peak demand for edges ij (kW)\r\n",
        "d_ij_annual = read_excel_data(file1,\"EdgesDemandAnnual(Dij)\")#annual demand for edges ij (kWh/year)\r\n",
        "cap_ij_max = read_excel_data(file1,\"Cmax(cijmax)\")#maximum pipe capacity for edge (kW)\r\n",
        "cap_source_max = read_excel_data(file1,\"SourceMaxCap(Qimax)\")#(Qimax)Maximum heat generation capacity for source i (kW)\r\n",
        "p_umd = read_excel_data(file1,\"pumd(pijumd)\")#(pumd)unmet demand penalty for edge ij\r\n"
      ],
      "execution_count": 35,
      "outputs": []
    },
    {
      "cell_type": "code",
      "metadata": {
        "id": "X9WhuSoGaNYG",
        "colab": {
          "base_uri": "https://localhost:8080/"
        },
        "outputId": "e5c9b5e3-7321-44dc-cfd2-dae133610663"
      },
      "source": [
        " #Create decision Variables\r\n",
        "node_num = vi[0][0]\r\n",
        "source_loc = v0[0][0]\r\n",
        "set_I = [*range(node_num)] #nodes\r\n",
        "distances_ij = np.zeros(shape=(node_num,node_num))\r\n",
        "print(v_cord[0][1])\r\n",
        "for i in set_I:\r\n",
        "  for j in set_I:\r\n",
        "    distances_ij[i][j] = sqrt((v_cord[i][0]- v_cord[j][0])**2 + (v_cord[i][1]-v_cord[j][1])**2)\r\n",
        "\r\n",
        "x_ij =  LpVariable.dicts('x', (set_I, set_I ),0,1, \"Binary\")\r\n",
        "p_in_ij = LpVariable.dicts('pin', (set_I,set_I),lowBound=0)\r\n",
        "p_out_ij = LpVariable.dicts('pin', (set_I,set_I),lowBound=0)\r\n",
        "\r\n"
      ],
      "execution_count": 31,
      "outputs": [
        {
          "output_type": "stream",
          "text": [
            "30\n"
          ],
          "name": "stdout"
        }
      ]
    },
    {
      "cell_type": "code",
      "metadata": {
        "colab": {
          "base_uri": "https://localhost:8080/"
        },
        "id": "XO6mWU9fSlaR",
        "outputId": "33ec77fc-b9a0-42d0-ba2b-bc2b1bd432bd"
      },
      "source": [
        "print(x_ij)\r\n",
        "#make problem\r\n",
        "district_heating = LpProblem(\"district_heating\",LpMinimize)\r\n",
        "revenue = lpSum(x_ij[i][j]* d_ij_annual[i-1][j-1]*c_ij_rev[i-1][j-1]*connection_quota for i in set_I for j in set_I)\r\n",
        "heat_gen_cost = lpSum(t_full_load_hours[0][0] * c_heat[source_loc][0] * p_in_ij[source_loc][j]/ beta[0][0] for j in set_I)\r\n",
        "maintenance_cost = lpSum(c_ij_om[i-1][j-1]* distances_ij[i][j]*x_ij[i][j] for i in set_I for j in set_I)\r\n",
        "fixed_invest_cost = lpSum(fixed_unit_cost[0][0] * distances_ij[i][j]* alpha[0][0] *x_ij[i][j] for i in set_I for j in set_I )\r\n",
        "variable_invest_cost = lpSum(c_ij_var[i-1][j-1]* distances_ij[i][j]* alpha[0][0]* p_in_ij[i][j] for i in set_I for j in set_I)\r\n",
        "umd_pen_cost = lpSum(d_ij_annual[i-1][j-1] * p_umd[i-1][j-1]* (1-x_ij[i][j]-x_ij[j][i]) for i in set_I for j in set_I )\r\n"
      ],
      "execution_count": 36,
      "outputs": [
        {
          "output_type": "stream",
          "text": [
            "{0: {0: x_0_0, 1: x_0_1, 2: x_0_2, 3: x_0_3, 4: x_0_4, 5: x_0_5, 6: x_0_6, 7: x_0_7}, 1: {0: x_1_0, 1: x_1_1, 2: x_1_2, 3: x_1_3, 4: x_1_4, 5: x_1_5, 6: x_1_6, 7: x_1_7}, 2: {0: x_2_0, 1: x_2_1, 2: x_2_2, 3: x_2_3, 4: x_2_4, 5: x_2_5, 6: x_2_6, 7: x_2_7}, 3: {0: x_3_0, 1: x_3_1, 2: x_3_2, 3: x_3_3, 4: x_3_4, 5: x_3_5, 6: x_3_6, 7: x_3_7}, 4: {0: x_4_0, 1: x_4_1, 2: x_4_2, 3: x_4_3, 4: x_4_4, 5: x_4_5, 6: x_4_6, 7: x_4_7}, 5: {0: x_5_0, 1: x_5_1, 2: x_5_2, 3: x_5_3, 4: x_5_4, 5: x_5_5, 6: x_5_6, 7: x_5_7}, 6: {0: x_6_0, 1: x_6_1, 2: x_6_2, 3: x_6_3, 4: x_6_4, 5: x_6_5, 6: x_6_6, 7: x_6_7}, 7: {0: x_7_0, 1: x_7_1, 2: x_7_2, 3: x_7_3, 4: x_7_4, 5: x_7_5, 6: x_7_6, 7: x_7_7}}\n"
          ],
          "name": "stdout"
        }
      ]
    },
    {
      "cell_type": "code",
      "metadata": {
        "id": "xpQAtP21WuHt"
      },
      "source": [
        "district_heating += heat_gen_cost + maintenance_cost + fixed_invest_cost + variable_invest_cost + umd_pen_cost - revenue"
      ],
      "execution_count": null,
      "outputs": []
    },
    {
      "cell_type": "code",
      "metadata": {
        "id": "mOTvERsIXalb"
      },
      "source": [
        "#constraints\r\n",
        "#Tree structure\r\n",
        "district_heating += lpSum(x_ij[i][j] for i in set_I for j in set_I) == node_num -1\r\n",
        "#Unidirectionality\r\n",
        "district_heating += lpSum(x_ij[i][j] + x_ij[j][i]) <= 1\r\n",
        "#Demand Satisfaction\r\n",
        "for i in set_I:\r\n",
        "  for j in set_I:\r\n",
        "    district_heating += lpSum((1 - distances_ij[i][j]*theta_ij_var[i-1][j-1])*p_in_ij[i][j] - p_out_ij[i][j] ) == lpSum((distances_ij[i][j] *theta_ij_fix[i-1][j-1] + d_ij_peak[i-1][j-1]*connection_quota *beta)*x_ij[i][j] )\r\n",
        "#flow equilibrium\r\n",
        "for i in set_I:\r\n",
        "  for j in set_I:\r\n",
        "    if i != source_loc:\r\n",
        "      district_heating += lpSum(p_in_ij[i][j]-p_out_ij[i][j]) == 0\r\n",
        "#edge capacity\r\n",
        "for i in set_I:\r\n",
        "  for j in set_I:\r\n",
        "    district_heating += lpSum(p_in_ij[i][j]) <= lpSum(x_ij[i][j]*cap_ij_max[i-1][j-1])\r\n",
        "#source structure\r\n",
        "for j in set_I:\r\n",
        "  district_heating += lpSum(x_ij[j][source_loc]) ==0\r\n",
        "#Source heat generation capacity\r\n",
        "for j in set_I:\r\n",
        "  district_heating += lpSum(p_in_ij[source_loc][j] - p_out_ij[source_loc][j] ) <= cap_source_max[j][0]\r\n",
        "#Tour elimination\r\n",
        "for i in set_I: \r\n",
        "  for j in set_I:\r\n",
        "    if i != source_loc:\r\n",
        "      district_heating +=lpSum(x_ij[j][i]) >= 1\r\n",
        "\r\n",
        "\r\n"
      ],
      "execution_count": 41,
      "outputs": []
    },
    {
      "cell_type": "markdown",
      "metadata": {
        "id": "mLnbp9g2Z48R"
      },
      "source": [
        ""
      ]
    }
  ]
}