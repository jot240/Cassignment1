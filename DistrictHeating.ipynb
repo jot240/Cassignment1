{
  "nbformat": 4,
  "nbformat_minor": 0,
  "metadata": {
    "colab": {
      "name": "DistrictHeating.ipynb",
      "provenance": [],
      "include_colab_link": true
    },
    "kernelspec": {
      "name": "python3",
      "display_name": "Python 3"
    }
  },
  "cells": [
    {
      "cell_type": "markdown",
      "metadata": {
        "id": "view-in-github",
        "colab_type": "text"
      },
      "source": [
        "<a href=\"https://colab.research.google.com/github/jot240/Cassignment1/blob/master/DistrictHeating.ipynb\" target=\"_parent\"><img src=\"https://colab.research.google.com/assets/colab-badge.svg\" alt=\"Open In Colab\"/></a>"
      ]
    },
    {
      "cell_type": "code",
      "metadata": {
        "id": "pPuddfGlU95s",
        "colab": {
          "base_uri": "https://localhost:8080/"
        },
        "outputId": "a82d9e8d-74bf-4e92-8407-5badc8056615"
      },
      "source": [
        "!pip install pulp"
      ],
      "execution_count": 1,
      "outputs": [
        {
          "output_type": "stream",
          "text": [
            "Collecting pulp\n",
            "\u001b[?25l  Downloading https://files.pythonhosted.org/packages/14/c4/0eec14a0123209c261de6ff154ef3be5cad3fd557c084f468356662e0585/PuLP-2.4-py3-none-any.whl (40.6MB)\n",
            "\u001b[K     |████████████████████████████████| 40.6MB 103kB/s \n",
            "\u001b[?25hCollecting amply>=0.1.2\n",
            "  Downloading https://files.pythonhosted.org/packages/f3/c5/dfa09dd2595a2ab2ab4e6fa7bebef9565812722e1980d04b0edce5032066/amply-0.1.4-py3-none-any.whl\n",
            "Requirement already satisfied: pyparsing in /usr/local/lib/python3.7/dist-packages (from amply>=0.1.2->pulp) (2.4.7)\n",
            "Requirement already satisfied: docutils>=0.3 in /usr/local/lib/python3.7/dist-packages (from amply>=0.1.2->pulp) (0.16)\n",
            "Installing collected packages: amply, pulp\n",
            "Successfully installed amply-0.1.4 pulp-2.4\n"
          ],
          "name": "stdout"
        }
      ]
    },
    {
      "cell_type": "code",
      "metadata": {
        "id": "azWmfKP28-pR"
      },
      "source": [
        "from pulp import *\r\n",
        "import pandas as pd\r\n",
        "import numpy as np"
      ],
      "execution_count": 2,
      "outputs": []
    },
    {
      "cell_type": "code",
      "metadata": {
        "id": "s2mZ74hFDDjW"
      },
      "source": [
        "   def read_excel_data(filename, sheet_name):\r\n",
        "      data = pd.read_excel(filename, sheet_name=sheet_name, header=None)\r\n",
        "      values = data.values\r\n",
        "      if min(values.shape) == 1:  # This If is to make the code insensitive to column-wise or row-wise expression #\r\n",
        "          if values.shape[0] == 1:\r\n",
        "              values = values.tolist()\r\n",
        "          else:\r\n",
        "              values = values.transpose()\r\n",
        "              values = values.tolist()\r\n",
        "          return values[0]        \r\n",
        "      else:\r\n",
        "          data_dict = {}\r\n",
        "          if min(values.shape) == 2:  # For single-dimension parameters in Excel\r\n",
        "              if values.shape[0] == 2:\r\n",
        "                  for i in range(values.shape[1]):\r\n",
        "                      data_dict[i+1] = values[1][i]\r\n",
        "              else:\r\n",
        "                  for i in range(values.shape[0]):\r\n",
        "                      data_dict[i+1] = values[i][1]\r\n",
        "             \r\n",
        "          else:  # For two-dimension (matrix) parameters in Excel\r\n",
        "              for i in range(values.shape[0]):\r\n",
        "                  for j in range(values.shape[1]):\r\n",
        "                      data_dict[(i+1, j+1)] = values[i][j]\r\n",
        "          return data_dict"
      ],
      "execution_count": 3,
      "outputs": []
    },
    {
      "cell_type": "code",
      "metadata": {
        "id": "41POby3_EKDH"
      },
      "source": [
        "V0 = read_excel_data(\"InputDataEnergySmallInstance.xlsx\",\"SourceNum\")#location of first node\r\n",
        "Vi = read_excel_data(\"InputDataEnergySmallInstance.xlsx\",\"Nodes\") #number of nodes\r\n",
        "V_cord = read_excel_data(\"InputDataEnergySmallInstance.xlsx\",\"NodesCord\") # nodes coordinates\r\n",
        "theta_ij_fix = read_excel_data(\"InputDataEnergySmallInstance.xlsx\",\"vfix(thetaijfix)\")#Vfix cost\r\n",
        "theta_ij_var = read_excel_data(\"InputDataEnergySmallInstance.xlsx\",\"vvar(thetaijvar)\")#Vvar cost\r\n",
        "fixed_unit_cost = read_excel_data(\"InputDataEnergySmallInstance.xlsx\",\"FixedUnitCost\")#cost for 1 unit\r\n",
        "c_var = read_excel_data(\"InputDataEnergySmallInstance.xlsx\",\"cvar(cijvar)\")#variable cost for edge ij\r\n",
        "c_heat = read_excel_data(\"InputDataEnergySmallInstance.xlsx\",\"cheat(ciheat)\")# heat cost for node i\r\n"
      ],
      "execution_count": 8,
      "outputs": []
    }
  ]
}